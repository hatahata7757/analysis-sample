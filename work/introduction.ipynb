{
 "metadata": {
  "language_info": {
   "codemirror_mode": {
    "name": "ipython",
    "version": 3
   },
   "file_extension": ".py",
   "mimetype": "text/x-python",
   "name": "python",
   "nbconvert_exporter": "python",
   "pygments_lexer": "ipython3",
   "version": "3.8.6-final"
  },
  "orig_nbformat": 2,
  "kernelspec": {
   "name": "python3",
   "display_name": "Python 3",
   "language": "python"
  }
 },
 "nbformat": 4,
 "nbformat_minor": 2,
 "cells": [
  {
   "source": [
    "# ざっくりJupyter Labことはじめ\n",
    "## .ipynb とは\n",
    "Ipython Notebook用の拡張子. Markdownとpythonコードを一緒にしたドキュメントを作成できる.\n",
    "\n",
    "対話型インターフェースをすごくリッチにした感じ.一つ一つの記述部分を**セル**と呼称し, Markdown用のセル, コード用のセル, データ用のセルなどの種類がある"
   ],
   "cell_type": "markdown",
   "metadata": {}
  },
  {
   "cell_type": "code",
   "execution_count": 2,
   "metadata": {},
   "outputs": [
    {
     "output_type": "stream",
     "name": "stdout",
     "text": [
      "Hello, world\n"
     ]
    }
   ],
   "source": [
    "print(\"Hello, world\")"
   ]
  },
  {
   "source": [
    "## ショートカット\n",
    "Jupyterには様々なショートカットが用意されている.\n",
    "\n",
    "参考：https://qiita.com/zawawahoge/items/baa2a5318df079c5f7e5#mac-os\n",
    "\n",
    "最低限,\n",
    "- コードセルにする：Y\n",
    "- マークダウンセルにする：M\n",
    "- セルの実行：shift + Enter\n",
    "- 選択しているセルの削除：D → D\n",
    "- 削除したセルを巻き戻す：Z\n",
    "\n",
    "位は覚える."
   ],
   "cell_type": "markdown",
   "metadata": {}
  },
  {
   "source": [
    "## パッケージのインストール\n",
    "Jupyterをインストールすると`anaconda`で仮想環境が作られ, 統計処理に必要なパッケージが一通り入る.\n",
    "\n",
    "他にインストールしたいパッケージがあった場合, インストールはターミナルで行った方がよい. セル内で`pip install XXX`などもできるが, それぞれのファイルでやってしまうとめちゃくちゃになる.\n",
    "\n",
    "主なパッケージ操作は以下Condaコマンドを使用する.\n",
    "\n",
    "| 目的 | コマンド |\n",
    "|:--|:--|\n",
    "| インストール | `conda install [name]` |\n",
    "| インストール (バージョン指定) | `conda install [name]==x.x.x` |\n",
    "| アンインストール | `conda uninstall [library]` |\n",
    "| インストール済み一覧 | `conda list` |\n",
    "| インストール済み一覧 (環境指定) | `conda list -n [name]` |\n",
    "| 全部のアップデート | `conda update --all` |\n",
    "| 特定のアップデート | `conda update [library]` |\n",
    "| パッケージ一覧の更新 | `conda install -y conda-build` |\n"
   ],
   "cell_type": "markdown",
   "metadata": {}
  }
 ]
}